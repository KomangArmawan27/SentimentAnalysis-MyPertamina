{
 "cells": [
  {
   "cell_type": "markdown",
   "id": "7dbc5df4",
   "metadata": {},
   "source": [
    "# Skripsi\n",
    "# Analisis sentimen menggunakan NBC\n",
    "\n",
    "#### I Komang Damai Armawan"
   ]
  },
  {
   "cell_type": "code",
   "execution_count": 1,
   "id": "381eb08e",
   "metadata": {},
   "outputs": [],
   "source": [
    "import pandas as pd\n",
    "import numpy as np\n",
    "import nltk\n",
    "from nltk.tokenize import word_tokenize\n",
    "from nltk.corpus import stopwords\n",
    "from Sastrawi.Stemmer.StemmerFactory import StemmerFactory\n",
    "import re\n",
    "import string\n",
    "from sklearn.feature_extraction.text import TfidfVectorizer\n",
    "from sklearn.model_selection import train_test_split\n",
    "from sklearn.naive_bayes import MultinomialNB\n",
    "from sklearn.preprocessing import MultiLabelBinarizer\n",
    "from sklearn.metrics import classification_report \n",
    "from collections import Counter\n",
    "from imblearn.over_sampling import SMOTE\n",
    "# from IPython import display\n",
    "# import matplotlib.pyplot as plt"
   ]
  },
  {
   "cell_type": "markdown",
   "id": "679cb449",
   "metadata": {},
   "source": [
    "# A. Read Dataset"
   ]
  },
  {
   "cell_type": "code",
   "execution_count": 2,
   "id": "ae8f8caf",
   "metadata": {},
   "outputs": [
    {
     "data": {
      "text/html": [
       "<div>\n",
       "<style scoped>\n",
       "    .dataframe tbody tr th:only-of-type {\n",
       "        vertical-align: middle;\n",
       "    }\n",
       "\n",
       "    .dataframe tbody tr th {\n",
       "        vertical-align: top;\n",
       "    }\n",
       "\n",
       "    .dataframe thead th {\n",
       "        text-align: right;\n",
       "    }\n",
       "</style>\n",
       "<table border=\"1\" class=\"dataframe\">\n",
       "  <thead>\n",
       "    <tr style=\"text-align: right;\">\n",
       "      <th></th>\n",
       "      <th>url</th>\n",
       "      <th>created_at</th>\n",
       "      <th>full_text</th>\n",
       "      <th>reply_count</th>\n",
       "      <th>retweet_count</th>\n",
       "      <th>user/advertiser_account_type</th>\n",
       "      <th>user/description</th>\n",
       "      <th>user/followers_count</th>\n",
       "      <th>user/friends_count</th>\n",
       "      <th>user/location</th>\n",
       "      <th>user/media_count</th>\n",
       "      <th>user/id</th>\n",
       "      <th>user/name</th>\n",
       "      <th>user/screen_name</th>\n",
       "      <th>user/url</th>\n",
       "      <th>user/verified</th>\n",
       "    </tr>\n",
       "  </thead>\n",
       "  <tbody>\n",
       "    <tr>\n",
       "      <th>0</th>\n",
       "      <td>https://twitter.com/Cutty__Flam/status/1595649...</td>\n",
       "      <td>2022-11-24T05:24:20.000Z</td>\n",
       "      <td>@xa_adinn @RossaGhea @officialJKT48 ribet ga w...</td>\n",
       "      <td>1</td>\n",
       "      <td>0</td>\n",
       "      <td>promotable_user</td>\n",
       "      <td>ARSENAL, LAZIO, T-ara, One Piece, and JKT48 lo...</td>\n",
       "      <td>57</td>\n",
       "      <td>254</td>\n",
       "      <td>Kemanggisan</td>\n",
       "      <td>1100</td>\n",
       "      <td>1246673035</td>\n",
       "      <td>Furanky</td>\n",
       "      <td>Cutty__Flam</td>\n",
       "      <td>NaN</td>\n",
       "      <td>False</td>\n",
       "    </tr>\n",
       "    <tr>\n",
       "      <th>1</th>\n",
       "      <td>https://twitter.com/jawapos/status/15962776895...</td>\n",
       "      <td>2022-11-25T23:00:33.000Z</td>\n",
       "      <td>17 Desember, Pembelian BBM Subsidi di SPBU Waj...</td>\n",
       "      <td>0</td>\n",
       "      <td>0</td>\n",
       "      <td>promotable_user</td>\n",
       "      <td>Akun Twitter resmi Jawa Pos Media | Jawa Pos, ...</td>\n",
       "      <td>512472</td>\n",
       "      <td>267</td>\n",
       "      <td>Jakarta</td>\n",
       "      <td>19383</td>\n",
       "      <td>2392460208</td>\n",
       "      <td>Jawa Pos</td>\n",
       "      <td>jawapos</td>\n",
       "      <td>https://t.co/zQIlbGPP2B</td>\n",
       "      <td>True</td>\n",
       "    </tr>\n",
       "    <tr>\n",
       "      <th>2</th>\n",
       "      <td>https://twitter.com/wahananewsdotco/status/159...</td>\n",
       "      <td>2022-11-26T01:24:33.000Z</td>\n",
       "      <td>Data Konsumen Diambil Saat Isi BBM Subsidi, In...</td>\n",
       "      <td>0</td>\n",
       "      <td>2</td>\n",
       "      <td>promotable_user</td>\n",
       "      <td>Akun Resmi Media Wahana News - Inspirasi Konsu...</td>\n",
       "      <td>4837</td>\n",
       "      <td>1924</td>\n",
       "      <td>Jakarta</td>\n",
       "      <td>79</td>\n",
       "      <td>1124517245722349568</td>\n",
       "      <td>Wahana News Official</td>\n",
       "      <td>wahananewsdotco</td>\n",
       "      <td>https://t.co/CHwYCTxjr6</td>\n",
       "      <td>False</td>\n",
       "    </tr>\n",
       "    <tr>\n",
       "      <th>3</th>\n",
       "      <td>https://twitter.com/linkaja/status/15963681492...</td>\n",
       "      <td>2022-11-26T05:00:00.000Z</td>\n",
       "      <td>Isi BBM lebih banyak biar makin irit!\\nBeli BB...</td>\n",
       "      <td>2</td>\n",
       "      <td>0</td>\n",
       "      <td>promotable_user</td>\n",
       "      <td>Layanan Customer Service LinkAja: Live Chat ht...</td>\n",
       "      <td>117575</td>\n",
       "      <td>13</td>\n",
       "      <td>NaN</td>\n",
       "      <td>10380</td>\n",
       "      <td>3195998996</td>\n",
       "      <td>LinkAja</td>\n",
       "      <td>linkaja</td>\n",
       "      <td>https://t.co/IfRujVkEqz</td>\n",
       "      <td>True</td>\n",
       "    </tr>\n",
       "    <tr>\n",
       "      <th>4</th>\n",
       "      <td>https://twitter.com/SyariahLinkAja/status/1596...</td>\n",
       "      <td>2022-11-27T11:00:02.000Z</td>\n",
       "      <td>Isi BBM via MyPertamina, beli 20L dapat ekstra...</td>\n",
       "      <td>0</td>\n",
       "      <td>0</td>\n",
       "      <td>promotable_user</td>\n",
       "      <td>LinkAja Syariah adalah Aplikasi Dompet Elektro...</td>\n",
       "      <td>1906</td>\n",
       "      <td>4</td>\n",
       "      <td>NaN</td>\n",
       "      <td>3279</td>\n",
       "      <td>1297815347404263424</td>\n",
       "      <td>LinkAja Syariah</td>\n",
       "      <td>SyariahLinkAja</td>\n",
       "      <td>https://t.co/OgZKSEz68B</td>\n",
       "      <td>True</td>\n",
       "    </tr>\n",
       "  </tbody>\n",
       "</table>\n",
       "</div>"
      ],
      "text/plain": [
       "                                                 url  \\\n",
       "0  https://twitter.com/Cutty__Flam/status/1595649...   \n",
       "1  https://twitter.com/jawapos/status/15962776895...   \n",
       "2  https://twitter.com/wahananewsdotco/status/159...   \n",
       "3  https://twitter.com/linkaja/status/15963681492...   \n",
       "4  https://twitter.com/SyariahLinkAja/status/1596...   \n",
       "\n",
       "                 created_at  \\\n",
       "0  2022-11-24T05:24:20.000Z   \n",
       "1  2022-11-25T23:00:33.000Z   \n",
       "2  2022-11-26T01:24:33.000Z   \n",
       "3  2022-11-26T05:00:00.000Z   \n",
       "4  2022-11-27T11:00:02.000Z   \n",
       "\n",
       "                                           full_text  reply_count  \\\n",
       "0  @xa_adinn @RossaGhea @officialJKT48 ribet ga w...            1   \n",
       "1  17 Desember, Pembelian BBM Subsidi di SPBU Waj...            0   \n",
       "2  Data Konsumen Diambil Saat Isi BBM Subsidi, In...            0   \n",
       "3  Isi BBM lebih banyak biar makin irit!\\nBeli BB...            2   \n",
       "4  Isi BBM via MyPertamina, beli 20L dapat ekstra...            0   \n",
       "\n",
       "   retweet_count user/advertiser_account_type  \\\n",
       "0              0              promotable_user   \n",
       "1              0              promotable_user   \n",
       "2              2              promotable_user   \n",
       "3              0              promotable_user   \n",
       "4              0              promotable_user   \n",
       "\n",
       "                                    user/description  user/followers_count  \\\n",
       "0  ARSENAL, LAZIO, T-ara, One Piece, and JKT48 lo...                    57   \n",
       "1  Akun Twitter resmi Jawa Pos Media | Jawa Pos, ...                512472   \n",
       "2  Akun Resmi Media Wahana News - Inspirasi Konsu...                  4837   \n",
       "3  Layanan Customer Service LinkAja: Live Chat ht...                117575   \n",
       "4  LinkAja Syariah adalah Aplikasi Dompet Elektro...                  1906   \n",
       "\n",
       "   user/friends_count user/location  user/media_count              user/id  \\\n",
       "0                 254   Kemanggisan              1100           1246673035   \n",
       "1                 267       Jakarta             19383           2392460208   \n",
       "2                1924       Jakarta                79  1124517245722349568   \n",
       "3                  13           NaN             10380           3195998996   \n",
       "4                   4           NaN              3279  1297815347404263424   \n",
       "\n",
       "              user/name user/screen_name                 user/url  \\\n",
       "0               Furanky      Cutty__Flam                      NaN   \n",
       "1              Jawa Pos          jawapos  https://t.co/zQIlbGPP2B   \n",
       "2  Wahana News Official  wahananewsdotco  https://t.co/CHwYCTxjr6   \n",
       "3               LinkAja          linkaja  https://t.co/IfRujVkEqz   \n",
       "4       LinkAja Syariah   SyariahLinkAja  https://t.co/OgZKSEz68B   \n",
       "\n",
       "   user/verified  \n",
       "0          False  \n",
       "1           True  \n",
       "2          False  \n",
       "3           True  \n",
       "4           True  "
      ]
     },
     "execution_count": 2,
     "metadata": {},
     "output_type": "execute_result"
    }
   ],
   "source": [
    "df = pd.read_excel(r\"D:\\work\\project\\SentimentAnalysis-MyPertamina\\data\\dataset twt - edited.xlsx\")\n",
    "df.head(5)"
   ]
  },
  {
   "cell_type": "markdown",
   "id": "bfee522c",
   "metadata": {},
   "source": [
    "# B. Preprocessing\n",
    "##### 1.Drop Duplicates 2.User Selection 3.Numbers Removal 4.Punctuation Removal  5.Whitespace Remover\n",
    "##### 6.Stemming 7.Words Dictionary 8.Tokenizing 9.Stopwords Removal 10.Labeling"
   ]
  },
  {
   "cell_type": "code",
   "execution_count": 3,
   "id": "5131dfeb",
   "metadata": {},
   "outputs": [
    {
     "data": {
      "text/html": [
       "<div>\n",
       "<style scoped>\n",
       "    .dataframe tbody tr th:only-of-type {\n",
       "        vertical-align: middle;\n",
       "    }\n",
       "\n",
       "    .dataframe tbody tr th {\n",
       "        vertical-align: top;\n",
       "    }\n",
       "\n",
       "    .dataframe thead th {\n",
       "        text-align: right;\n",
       "    }\n",
       "</style>\n",
       "<table border=\"1\" class=\"dataframe\">\n",
       "  <thead>\n",
       "    <tr style=\"text-align: right;\">\n",
       "      <th></th>\n",
       "      <th>url</th>\n",
       "      <th>created_at</th>\n",
       "      <th>full_text</th>\n",
       "      <th>reply_count</th>\n",
       "      <th>retweet_count</th>\n",
       "      <th>user/advertiser_account_type</th>\n",
       "      <th>user/description</th>\n",
       "      <th>user/followers_count</th>\n",
       "      <th>user/friends_count</th>\n",
       "      <th>user/location</th>\n",
       "      <th>user/media_count</th>\n",
       "      <th>user/id</th>\n",
       "      <th>user/name</th>\n",
       "      <th>user/screen_name</th>\n",
       "      <th>user/url</th>\n",
       "      <th>user/verified</th>\n",
       "    </tr>\n",
       "  </thead>\n",
       "  <tbody>\n",
       "    <tr>\n",
       "      <th>0</th>\n",
       "      <td>https://twitter.com/Cutty__Flam/status/1595649...</td>\n",
       "      <td>2022-11-24T05:24:20.000Z</td>\n",
       "      <td>@xa_adinn @RossaGhea @officialJKT48 ribet ga w...</td>\n",
       "      <td>1</td>\n",
       "      <td>0</td>\n",
       "      <td>promotable_user</td>\n",
       "      <td>ARSENAL, LAZIO, T-ara, One Piece, and JKT48 lo...</td>\n",
       "      <td>57</td>\n",
       "      <td>254</td>\n",
       "      <td>Kemanggisan</td>\n",
       "      <td>1100</td>\n",
       "      <td>1246673035</td>\n",
       "      <td>Furanky</td>\n",
       "      <td>Cutty__Flam</td>\n",
       "      <td>0</td>\n",
       "      <td>False</td>\n",
       "    </tr>\n",
       "    <tr>\n",
       "      <th>1</th>\n",
       "      <td>https://twitter.com/jawapos/status/15962776895...</td>\n",
       "      <td>2022-11-25T23:00:33.000Z</td>\n",
       "      <td>17 Desember, Pembelian BBM Subsidi di SPBU Waj...</td>\n",
       "      <td>0</td>\n",
       "      <td>0</td>\n",
       "      <td>promotable_user</td>\n",
       "      <td>Akun Twitter resmi Jawa Pos Media | Jawa Pos, ...</td>\n",
       "      <td>512472</td>\n",
       "      <td>267</td>\n",
       "      <td>Jakarta</td>\n",
       "      <td>19383</td>\n",
       "      <td>2392460208</td>\n",
       "      <td>Jawa Pos</td>\n",
       "      <td>jawapos</td>\n",
       "      <td>https://t.co/zQIlbGPP2B</td>\n",
       "      <td>True</td>\n",
       "    </tr>\n",
       "    <tr>\n",
       "      <th>2</th>\n",
       "      <td>https://twitter.com/wahananewsdotco/status/159...</td>\n",
       "      <td>2022-11-26T01:24:33.000Z</td>\n",
       "      <td>Data Konsumen Diambil Saat Isi BBM Subsidi, In...</td>\n",
       "      <td>0</td>\n",
       "      <td>2</td>\n",
       "      <td>promotable_user</td>\n",
       "      <td>Akun Resmi Media Wahana News - Inspirasi Konsu...</td>\n",
       "      <td>4837</td>\n",
       "      <td>1924</td>\n",
       "      <td>Jakarta</td>\n",
       "      <td>79</td>\n",
       "      <td>1124517245722349568</td>\n",
       "      <td>Wahana News Official</td>\n",
       "      <td>wahananewsdotco</td>\n",
       "      <td>https://t.co/CHwYCTxjr6</td>\n",
       "      <td>False</td>\n",
       "    </tr>\n",
       "    <tr>\n",
       "      <th>3</th>\n",
       "      <td>https://twitter.com/linkaja/status/15963681492...</td>\n",
       "      <td>2022-11-26T05:00:00.000Z</td>\n",
       "      <td>Isi BBM lebih banyak biar makin irit!\\nBeli BB...</td>\n",
       "      <td>2</td>\n",
       "      <td>0</td>\n",
       "      <td>promotable_user</td>\n",
       "      <td>Layanan Customer Service LinkAja: Live Chat ht...</td>\n",
       "      <td>117575</td>\n",
       "      <td>13</td>\n",
       "      <td>0</td>\n",
       "      <td>10380</td>\n",
       "      <td>3195998996</td>\n",
       "      <td>LinkAja</td>\n",
       "      <td>linkaja</td>\n",
       "      <td>https://t.co/IfRujVkEqz</td>\n",
       "      <td>True</td>\n",
       "    </tr>\n",
       "    <tr>\n",
       "      <th>4</th>\n",
       "      <td>https://twitter.com/SyariahLinkAja/status/1596...</td>\n",
       "      <td>2022-11-27T11:00:02.000Z</td>\n",
       "      <td>Isi BBM via MyPertamina, beli 20L dapat ekstra...</td>\n",
       "      <td>0</td>\n",
       "      <td>0</td>\n",
       "      <td>promotable_user</td>\n",
       "      <td>LinkAja Syariah adalah Aplikasi Dompet Elektro...</td>\n",
       "      <td>1906</td>\n",
       "      <td>4</td>\n",
       "      <td>0</td>\n",
       "      <td>3279</td>\n",
       "      <td>1297815347404263424</td>\n",
       "      <td>LinkAja Syariah</td>\n",
       "      <td>SyariahLinkAja</td>\n",
       "      <td>https://t.co/OgZKSEz68B</td>\n",
       "      <td>True</td>\n",
       "    </tr>\n",
       "  </tbody>\n",
       "</table>\n",
       "</div>"
      ],
      "text/plain": [
       "                                                 url  \\\n",
       "0  https://twitter.com/Cutty__Flam/status/1595649...   \n",
       "1  https://twitter.com/jawapos/status/15962776895...   \n",
       "2  https://twitter.com/wahananewsdotco/status/159...   \n",
       "3  https://twitter.com/linkaja/status/15963681492...   \n",
       "4  https://twitter.com/SyariahLinkAja/status/1596...   \n",
       "\n",
       "                 created_at  \\\n",
       "0  2022-11-24T05:24:20.000Z   \n",
       "1  2022-11-25T23:00:33.000Z   \n",
       "2  2022-11-26T01:24:33.000Z   \n",
       "3  2022-11-26T05:00:00.000Z   \n",
       "4  2022-11-27T11:00:02.000Z   \n",
       "\n",
       "                                           full_text  reply_count  \\\n",
       "0  @xa_adinn @RossaGhea @officialJKT48 ribet ga w...            1   \n",
       "1  17 Desember, Pembelian BBM Subsidi di SPBU Waj...            0   \n",
       "2  Data Konsumen Diambil Saat Isi BBM Subsidi, In...            0   \n",
       "3  Isi BBM lebih banyak biar makin irit!\\nBeli BB...            2   \n",
       "4  Isi BBM via MyPertamina, beli 20L dapat ekstra...            0   \n",
       "\n",
       "   retweet_count user/advertiser_account_type  \\\n",
       "0              0              promotable_user   \n",
       "1              0              promotable_user   \n",
       "2              2              promotable_user   \n",
       "3              0              promotable_user   \n",
       "4              0              promotable_user   \n",
       "\n",
       "                                    user/description  user/followers_count  \\\n",
       "0  ARSENAL, LAZIO, T-ara, One Piece, and JKT48 lo...                    57   \n",
       "1  Akun Twitter resmi Jawa Pos Media | Jawa Pos, ...                512472   \n",
       "2  Akun Resmi Media Wahana News - Inspirasi Konsu...                  4837   \n",
       "3  Layanan Customer Service LinkAja: Live Chat ht...                117575   \n",
       "4  LinkAja Syariah adalah Aplikasi Dompet Elektro...                  1906   \n",
       "\n",
       "   user/friends_count user/location  user/media_count              user/id  \\\n",
       "0                 254   Kemanggisan              1100           1246673035   \n",
       "1                 267       Jakarta             19383           2392460208   \n",
       "2                1924       Jakarta                79  1124517245722349568   \n",
       "3                  13             0             10380           3195998996   \n",
       "4                   4             0              3279  1297815347404263424   \n",
       "\n",
       "              user/name user/screen_name                 user/url  \\\n",
       "0               Furanky      Cutty__Flam                        0   \n",
       "1              Jawa Pos          jawapos  https://t.co/zQIlbGPP2B   \n",
       "2  Wahana News Official  wahananewsdotco  https://t.co/CHwYCTxjr6   \n",
       "3               LinkAja          linkaja  https://t.co/IfRujVkEqz   \n",
       "4       LinkAja Syariah   SyariahLinkAja  https://t.co/OgZKSEz68B   \n",
       "\n",
       "   user/verified  \n",
       "0          False  \n",
       "1           True  \n",
       "2          False  \n",
       "3           True  \n",
       "4           True  "
      ]
     },
     "execution_count": 3,
     "metadata": {},
     "output_type": "execute_result"
    }
   ],
   "source": [
    "# fill the NaN \n",
    "df.fillna(0, inplace=True)\n",
    "df.head(5)"
   ]
  },
  {
   "cell_type": "code",
   "execution_count": 4,
   "id": "c98c0a92",
   "metadata": {},
   "outputs": [
    {
     "data": {
      "text/plain": [
       "(972, 16)"
      ]
     },
     "execution_count": 4,
     "metadata": {},
     "output_type": "execute_result"
    }
   ],
   "source": [
    "df.shape"
   ]
  },
  {
   "cell_type": "markdown",
   "id": "668064a7",
   "metadata": {},
   "source": [
    "### 1. Droping Dataset"
   ]
  },
  {
   "cell_type": "code",
   "execution_count": 5,
   "id": "e8b5da7b",
   "metadata": {},
   "outputs": [
    {
     "data": {
      "text/plain": [
       "(972, 16)"
      ]
     },
     "execution_count": 5,
     "metadata": {},
     "output_type": "execute_result"
    }
   ],
   "source": [
    "# drop duplicates\n",
    "df.drop_duplicates(subset=['url'])\n",
    "df.shape"
   ]
  },
  {
   "cell_type": "code",
   "execution_count": 6,
   "id": "a816bb1a",
   "metadata": {},
   "outputs": [
    {
     "data": {
      "text/plain": [
       "(854, 16)"
      ]
     },
     "execution_count": 6,
     "metadata": {},
     "output_type": "execute_result"
    }
   ],
   "source": [
    "# user selection\n",
    "df = df[df['user/name']!='MyPertamina']\n",
    "df = df[df['user/name']!='LinkAja Syariah']\n",
    "df = df[df['user/name']!='LinkAja']\n",
    "df = df[df['user/name']!='Pertamina Papua Maluku']\n",
    "df = df[df['user/name']!='Pertamax Series ID']\n",
    "df.shape"
   ]
  },
  {
   "cell_type": "markdown",
   "id": "35ba3fbe",
   "metadata": {},
   "source": [
    "### cut off time date"
   ]
  },
  {
   "cell_type": "code",
   "execution_count": 7,
   "id": "ab3dbdb8",
   "metadata": {
    "scrolled": true
   },
   "outputs": [
    {
     "name": "stderr",
     "output_type": "stream",
     "text": [
      "C:\\Users\\koman\\AppData\\Local\\Temp\\ipykernel_18576\\144948175.py:10: FutureWarning: Comparison of Timestamp with datetime.date is deprecated in order to match the standard library behavior. In a future version these will be considered non-comparable. Use 'ts == pd.Timestamp(date)' or 'ts.date() == date' instead.\n",
      "  df = df[(df['created_at'] >= start_date) & (df['created_at'] < end_date)]\n"
     ]
    }
   ],
   "source": [
    "# fixing the date format\n",
    "df['created_at'] = pd.to_datetime(df['created_at'])\n",
    "df['created_at'] = df['created_at'].dt.date\n",
    "\n",
    "# set the cut off point\n",
    "start_date = pd.to_datetime('2022-5-25')\n",
    "end_date = pd.to_datetime('2023-5-1')\n",
    "\n",
    "# cutting the date\n",
    "df = df[(df['created_at'] >= start_date) & (df['created_at'] < end_date)]"
   ]
  },
  {
   "cell_type": "code",
   "execution_count": 8,
   "id": "c21ad5ba",
   "metadata": {},
   "outputs": [
    {
     "data": {
      "text/plain": [
       "(819, 16)"
      ]
     },
     "execution_count": 8,
     "metadata": {},
     "output_type": "execute_result"
    }
   ],
   "source": [
    "df.shape"
   ]
  },
  {
   "cell_type": "markdown",
   "id": "07f28349",
   "metadata": {},
   "source": [
    "### creating id columns"
   ]
  },
  {
   "cell_type": "code",
   "execution_count": 9,
   "id": "4b6442b0",
   "metadata": {},
   "outputs": [],
   "source": [
    "# sorting dataframe\n",
    "df = df.sort_values(by='created_at')\n",
    "df = df.reset_index(drop=True)"
   ]
  },
  {
   "cell_type": "code",
   "execution_count": 10,
   "id": "3effbc32",
   "metadata": {
    "scrolled": false
   },
   "outputs": [],
   "source": [
    "# create id column\n",
    "df['id'] = np.arange(1, len(df) +1)\n",
    "\n",
    "# swaping column\n",
    "def swap_columns(df, id, url):\n",
    "    col_list = list(df.columns)\n",
    "    x, y = col_list.index(id), col_list.index(url)\n",
    "    col_list[y], col_list[x] = col_list[x], col_list[y]\n",
    "    df = df[col_list]\n",
    "    return df\n",
    "df = swap_columns(df, 'url', 'id')"
   ]
  },
  {
   "cell_type": "code",
   "execution_count": 11,
   "id": "256aa184",
   "metadata": {},
   "outputs": [],
   "source": [
    "df_selected = df[['id', 'full_text', 'user/name', 'created_at']]"
   ]
  },
  {
   "cell_type": "code",
   "execution_count": 12,
   "id": "376bd335",
   "metadata": {},
   "outputs": [
    {
     "data": {
      "text/html": [
       "<div>\n",
       "<style scoped>\n",
       "    .dataframe tbody tr th:only-of-type {\n",
       "        vertical-align: middle;\n",
       "    }\n",
       "\n",
       "    .dataframe tbody tr th {\n",
       "        vertical-align: top;\n",
       "    }\n",
       "\n",
       "    .dataframe thead th {\n",
       "        text-align: right;\n",
       "    }\n",
       "</style>\n",
       "<table border=\"1\" class=\"dataframe\">\n",
       "  <thead>\n",
       "    <tr style=\"text-align: right;\">\n",
       "      <th></th>\n",
       "      <th>id</th>\n",
       "      <th>full_text</th>\n",
       "      <th>user/name</th>\n",
       "      <th>created_at</th>\n",
       "    </tr>\n",
       "  </thead>\n",
       "  <tbody>\n",
       "    <tr>\n",
       "      <th>0</th>\n",
       "      <td>1</td>\n",
       "      <td>Supaya Subsidi BBM Tepat Sasaran, Pembeli Pert...</td>\n",
       "      <td>Dina</td>\n",
       "      <td>2022-05-28</td>\n",
       "    </tr>\n",
       "    <tr>\n",
       "      <th>1</th>\n",
       "      <td>2</td>\n",
       "      <td>Setuju banget, BBM bersubsidi hanya diperuntuk...</td>\n",
       "      <td>Adam</td>\n",
       "      <td>2022-05-28</td>\n",
       "    </tr>\n",
       "    <tr>\n",
       "      <th>2</th>\n",
       "      <td>3</td>\n",
       "      <td>Setuju banget, BBM bersubsidi hanya diperuntuk...</td>\n",
       "      <td>Lahrian Syahilla</td>\n",
       "      <td>2022-05-29</td>\n",
       "    </tr>\n",
       "    <tr>\n",
       "      <th>3</th>\n",
       "      <td>4</td>\n",
       "      <td>Nah solusi yang tepat!! \\nSupaya Subsidi BBM T...</td>\n",
       "      <td>My time :)</td>\n",
       "      <td>2022-05-29</td>\n",
       "    </tr>\n",
       "    <tr>\n",
       "      <th>4</th>\n",
       "      <td>5</td>\n",
       "      <td>Supaya Subsidi BBM Tepat Sasaran, Pembeli Pert...</td>\n",
       "      <td>Riri! fb ya</td>\n",
       "      <td>2022-05-29</td>\n",
       "    </tr>\n",
       "  </tbody>\n",
       "</table>\n",
       "</div>"
      ],
      "text/plain": [
       "   id                                          full_text         user/name  \\\n",
       "0   1  Supaya Subsidi BBM Tepat Sasaran, Pembeli Pert...              Dina   \n",
       "1   2  Setuju banget, BBM bersubsidi hanya diperuntuk...              Adam   \n",
       "2   3  Setuju banget, BBM bersubsidi hanya diperuntuk...  Lahrian Syahilla   \n",
       "3   4  Nah solusi yang tepat!! \\nSupaya Subsidi BBM T...        My time :)   \n",
       "4   5  Supaya Subsidi BBM Tepat Sasaran, Pembeli Pert...       Riri! fb ya   \n",
       "\n",
       "   created_at  \n",
       "0  2022-05-28  \n",
       "1  2022-05-28  \n",
       "2  2022-05-29  \n",
       "3  2022-05-29  \n",
       "4  2022-05-29  "
      ]
     },
     "execution_count": 12,
     "metadata": {},
     "output_type": "execute_result"
    }
   ],
   "source": [
    "df_selected.head(5)"
   ]
  },
  {
   "cell_type": "code",
   "execution_count": 13,
   "id": "97555527",
   "metadata": {},
   "outputs": [
    {
     "data": {
      "text/plain": [
       "(819, 4)"
      ]
     },
     "execution_count": 13,
     "metadata": {},
     "output_type": "execute_result"
    }
   ],
   "source": [
    "df_selected.shape"
   ]
  },
  {
   "cell_type": "markdown",
   "id": "de6280af",
   "metadata": {},
   "source": [
    "### 2. Re-Formating Text"
   ]
  },
  {
   "cell_type": "code",
   "execution_count": 14,
   "id": "bdbc7ed0",
   "metadata": {},
   "outputs": [
    {
     "data": {
      "text/html": [
       "<div>\n",
       "<style scoped>\n",
       "    .dataframe tbody tr th:only-of-type {\n",
       "        vertical-align: middle;\n",
       "    }\n",
       "\n",
       "    .dataframe tbody tr th {\n",
       "        vertical-align: top;\n",
       "    }\n",
       "\n",
       "    .dataframe thead th {\n",
       "        text-align: right;\n",
       "    }\n",
       "</style>\n",
       "<table border=\"1\" class=\"dataframe\">\n",
       "  <thead>\n",
       "    <tr style=\"text-align: right;\">\n",
       "      <th></th>\n",
       "      <th>id</th>\n",
       "      <th>full_text</th>\n",
       "      <th>user/name</th>\n",
       "      <th>created_at</th>\n",
       "    </tr>\n",
       "  </thead>\n",
       "  <tbody>\n",
       "    <tr>\n",
       "      <th>0</th>\n",
       "      <td>1</td>\n",
       "      <td>Supaya Subsidi BBM Tepat Sasaran, Pembeli Pert...</td>\n",
       "      <td>Dina</td>\n",
       "      <td>2022-05-28</td>\n",
       "    </tr>\n",
       "    <tr>\n",
       "      <th>1</th>\n",
       "      <td>2</td>\n",
       "      <td>Setuju banget, BBM bersubsidi hanya diperuntuk...</td>\n",
       "      <td>Adam</td>\n",
       "      <td>2022-05-28</td>\n",
       "    </tr>\n",
       "    <tr>\n",
       "      <th>2</th>\n",
       "      <td>3</td>\n",
       "      <td>Setuju banget, BBM bersubsidi hanya diperuntuk...</td>\n",
       "      <td>Lahrian Syahilla</td>\n",
       "      <td>2022-05-29</td>\n",
       "    </tr>\n",
       "    <tr>\n",
       "      <th>3</th>\n",
       "      <td>4</td>\n",
       "      <td>Nah solusi yang tepat!! \\nSupaya Subsidi BBM T...</td>\n",
       "      <td>My time :)</td>\n",
       "      <td>2022-05-29</td>\n",
       "    </tr>\n",
       "    <tr>\n",
       "      <th>4</th>\n",
       "      <td>5</td>\n",
       "      <td>Supaya Subsidi BBM Tepat Sasaran, Pembeli Pert...</td>\n",
       "      <td>Riri! fb ya</td>\n",
       "      <td>2022-05-29</td>\n",
       "    </tr>\n",
       "  </tbody>\n",
       "</table>\n",
       "</div>"
      ],
      "text/plain": [
       "   id                                          full_text         user/name  \\\n",
       "0   1  Supaya Subsidi BBM Tepat Sasaran, Pembeli Pert...              Dina   \n",
       "1   2  Setuju banget, BBM bersubsidi hanya diperuntuk...              Adam   \n",
       "2   3  Setuju banget, BBM bersubsidi hanya diperuntuk...  Lahrian Syahilla   \n",
       "3   4  Nah solusi yang tepat!! \\nSupaya Subsidi BBM T...        My time :)   \n",
       "4   5  Supaya Subsidi BBM Tepat Sasaran, Pembeli Pert...       Riri! fb ya   \n",
       "\n",
       "   created_at  \n",
       "0  2022-05-28  \n",
       "1  2022-05-28  \n",
       "2  2022-05-29  \n",
       "3  2022-05-29  \n",
       "4  2022-05-29  "
      ]
     },
     "execution_count": 14,
     "metadata": {},
     "output_type": "execute_result"
    }
   ],
   "source": [
    "# remove numbers\n",
    "index = df_selected.index.values\n",
    "\n",
    "for i in index:\n",
    "    df_nbremoved = (df_selected[['id', 'full_text']]).values\n",
    "    df_nbremoved[i][1] = re.sub(r\"\\d+\", \"\", df_nbremoved[i][1])\n",
    "    df_selected.at[i, 'full_text'] = df_nbremoved[i][1]\n",
    "    \n",
    "df_selected.head(5)"
   ]
  },
  {
   "cell_type": "code",
   "execution_count": 15,
   "id": "7e37dc97",
   "metadata": {},
   "outputs": [
    {
     "data": {
      "text/html": [
       "<div>\n",
       "<style scoped>\n",
       "    .dataframe tbody tr th:only-of-type {\n",
       "        vertical-align: middle;\n",
       "    }\n",
       "\n",
       "    .dataframe tbody tr th {\n",
       "        vertical-align: top;\n",
       "    }\n",
       "\n",
       "    .dataframe thead th {\n",
       "        text-align: right;\n",
       "    }\n",
       "</style>\n",
       "<table border=\"1\" class=\"dataframe\">\n",
       "  <thead>\n",
       "    <tr style=\"text-align: right;\">\n",
       "      <th></th>\n",
       "      <th>id</th>\n",
       "      <th>full_text</th>\n",
       "      <th>user/name</th>\n",
       "      <th>created_at</th>\n",
       "    </tr>\n",
       "  </thead>\n",
       "  <tbody>\n",
       "    <tr>\n",
       "      <th>0</th>\n",
       "      <td>1</td>\n",
       "      <td>Supaya Subsidi BBM Tepat Sasaran Pembeli Perta...</td>\n",
       "      <td>Dina</td>\n",
       "      <td>2022-05-28</td>\n",
       "    </tr>\n",
       "    <tr>\n",
       "      <th>1</th>\n",
       "      <td>2</td>\n",
       "      <td>Setuju banget BBM bersubsidi hanya diperuntuka...</td>\n",
       "      <td>Adam</td>\n",
       "      <td>2022-05-28</td>\n",
       "    </tr>\n",
       "    <tr>\n",
       "      <th>2</th>\n",
       "      <td>3</td>\n",
       "      <td>Setuju banget BBM bersubsidi hanya diperuntuka...</td>\n",
       "      <td>Lahrian Syahilla</td>\n",
       "      <td>2022-05-29</td>\n",
       "    </tr>\n",
       "    <tr>\n",
       "      <th>3</th>\n",
       "      <td>4</td>\n",
       "      <td>Nah solusi yang tepat \\nSupaya Subsidi BBM Tep...</td>\n",
       "      <td>My time :)</td>\n",
       "      <td>2022-05-29</td>\n",
       "    </tr>\n",
       "    <tr>\n",
       "      <th>4</th>\n",
       "      <td>5</td>\n",
       "      <td>Supaya Subsidi BBM Tepat Sasaran Pembeli Perta...</td>\n",
       "      <td>Riri! fb ya</td>\n",
       "      <td>2022-05-29</td>\n",
       "    </tr>\n",
       "  </tbody>\n",
       "</table>\n",
       "</div>"
      ],
      "text/plain": [
       "   id                                          full_text         user/name  \\\n",
       "0   1  Supaya Subsidi BBM Tepat Sasaran Pembeli Perta...              Dina   \n",
       "1   2  Setuju banget BBM bersubsidi hanya diperuntuka...              Adam   \n",
       "2   3  Setuju banget BBM bersubsidi hanya diperuntuka...  Lahrian Syahilla   \n",
       "3   4  Nah solusi yang tepat \\nSupaya Subsidi BBM Tep...        My time :)   \n",
       "4   5  Supaya Subsidi BBM Tepat Sasaran Pembeli Perta...       Riri! fb ya   \n",
       "\n",
       "   created_at  \n",
       "0  2022-05-28  \n",
       "1  2022-05-28  \n",
       "2  2022-05-29  \n",
       "3  2022-05-29  \n",
       "4  2022-05-29  "
      ]
     },
     "execution_count": 15,
     "metadata": {},
     "output_type": "execute_result"
    }
   ],
   "source": [
    "# remove punctuiation\n",
    "index = df_selected.index.values\n",
    "\n",
    "for i in index:\n",
    "    df_pncremoved = (df_selected[['id', 'full_text']]).values\n",
    "    df_pncremoved[i][1] = df_pncremoved[i][1].translate(str.maketrans(\"\",\"\",string.punctuation))\n",
    "    df_selected.at[i, 'full_text'] = df_pncremoved[i][1]\n",
    "\n",
    "df_selected.head(5)"
   ]
  },
  {
   "cell_type": "markdown",
   "id": "4b11360e",
   "metadata": {},
   "source": [
    "### 3. Stemming"
   ]
  },
  {
   "cell_type": "code",
   "execution_count": null,
   "id": "ca6574b4",
   "metadata": {},
   "outputs": [],
   "source": [
    "# stemming \n",
    "fact = StemmerFactory()\n",
    "stemmer = fact.create_stemmer()\n",
    "\n",
    "index = df_selected.index.values\n",
    "\n",
    "for i in index:\n",
    "    df_stem = (df_selected[['id', 'full_text']]).values\n",
    "    df_stem[i][1] = stemmer.stem(df_stem[i][1])\n",
    "    df_selected.at[i, 'full_text'] = df_stem[i][1]\n",
    "    \n",
    "df_selected.head(5)"
   ]
  },
  {
   "cell_type": "markdown",
   "id": "00fb6aca",
   "metadata": {},
   "source": [
    "### 4. Words Dictionary"
   ]
  },
  {
   "cell_type": "code",
   "execution_count": null,
   "id": "94381f4f",
   "metadata": {},
   "outputs": [],
   "source": [
    "# words count\n",
    "kamus = df_selected.full_text.apply(lambda x: pd.value_counts(x.split(\" \"))).sum(axis = 0)"
   ]
  },
  {
   "cell_type": "code",
   "execution_count": null,
   "id": "63b036be",
   "metadata": {
    "scrolled": true
   },
   "outputs": [],
   "source": [
    "kamus_df = pd.DataFrame(kamus,columns=['total'])\n",
    "text = kamus_df.index.values\n",
    "kamus_df['word'] = text\n",
    "\n",
    "# swaping column\n",
    "def swap_columns(kamus_df, total, word):\n",
    "    col_list = list(kamus_df.columns)\n",
    "    x, y = col_list.index(total), col_list.index(word)\n",
    "    col_list[y], col_list[x] = col_list[x], col_list[y]\n",
    "    kamus_df = kamus_df[col_list]\n",
    "    return kamus_df\n",
    "kamus_df = swap_columns(kamus_df, 'total', 'word')\n",
    "\n",
    "# reseting index\n",
    "kamus_df = kamus_df.reset_index(drop=True)\n",
    "\n",
    "# modify column\n",
    "kamus_df = kamus_df.astype({'total':'int'})\n",
    "\n",
    "# kamuskata = kamus_df[kamus_df['total']>10]\n",
    "# kamuskata.to_excel('kamus_kata.xlsx', index=False)"
   ]
  },
  {
   "cell_type": "code",
   "execution_count": null,
   "id": "81aa9b90",
   "metadata": {},
   "outputs": [],
   "source": [
    "# filter words <= 10\n",
    "kamus_kurangdari_10 = kamus_df[kamus_df['total']<=10]\n",
    "# kamus_kurangdari_10.to_excel('kamus_kurangdari_10.xlsx', index=False)"
   ]
  },
  {
   "cell_type": "markdown",
   "id": "8962cfce",
   "metadata": {},
   "source": [
    "### 5. Tokenizing"
   ]
  },
  {
   "cell_type": "code",
   "execution_count": null,
   "id": "a155986d",
   "metadata": {},
   "outputs": [],
   "source": [
    "# tokenizing\n",
    "df_token = df_selected['full_text'].apply(word_tokenize)\n",
    "df_selected['full_text'] = df_token\n",
    "\n",
    "df_selected.head(5)"
   ]
  },
  {
   "cell_type": "markdown",
   "id": "1bf0882a",
   "metadata": {},
   "source": [
    "### 6. Stopwords Removal"
   ]
  },
  {
   "cell_type": "code",
   "execution_count": null,
   "id": "29f1fc3a",
   "metadata": {},
   "outputs": [],
   "source": [
    "# ignore important words\n",
    "df_ignored = pd.read_excel(r\"D:\\work\\project\\SentimentAnalysis-MyPertamina\\data\\kamus kata\\ignored_words.xlsx\")\n",
    "df_ignored = df_ignored['ignore'].tolist()\n",
    "kamus_kurangdari_10['word'] = [' '.join([y for y in x.split() if y not in df_ignored])\n",
    "                               for x in kamus_kurangdari_10['word']]\n",
    "\n",
    "# adding stopwords\n",
    "more_stopword_ind = pd.read_csv(r'D:\\kuliah\\skripsi\\data\\stopwords\\stopwordbahasa.csv')\n",
    "more_stopword = kamus_kurangdari_10['word'].tolist()\n",
    "\n",
    "# merge stopwords\n",
    "stopwords = more_stopword + more_stopword_ind['stop'].tolist()\n",
    "\n",
    "# removing stopwords\n",
    "index = df_selected.index.values\n",
    "for i in index:\n",
    "    df_stoprmv = (df_selected[['id', 'full_text']]).values\n",
    "    df_stoprmv[i][1] = [x for x in df_stoprmv[i][1] if x not in stopwords]\n",
    "    df_selected.at[i, 'full_text'] = df_stoprmv[i][1]\n",
    "\n",
    "df_selected.head(5)"
   ]
  },
  {
   "cell_type": "markdown",
   "id": "1d278619",
   "metadata": {},
   "source": [
    "### 7. Labeling"
   ]
  },
  {
   "cell_type": "code",
   "execution_count": null,
   "id": "6ffea96f",
   "metadata": {},
   "outputs": [],
   "source": [
    "# labeling\n",
    "listNegatif = pd.read_excel(r'D:\\work\\project\\SentimentAnalysis-MyPertamina\\data\\kamus kata\\negatif.xlsx')\n",
    "listNegatif = listNegatif['negatif'].tolist()\n",
    "listPositif = pd.read_excel(r'D:\\work\\project\\SentimentAnalysis-MyPertamina\\data\\kamus kata\\positif.xlsx')\n",
    "listPositif = listPositif['positif'].tolist()\n",
    "\n",
    "df_selected[\"label\"] = df_selected['full_text'].apply(lambda x: 'negatif' if any(i in x for i in listNegatif) \n",
    "                                                      else 'positif' \n",
    "                                                      if any(i in x for i in listPositif) else 'netral')"
   ]
  },
  {
   "cell_type": "code",
   "execution_count": null,
   "id": "8891e6a6",
   "metadata": {
    "scrolled": false
   },
   "outputs": [],
   "source": [
    "df_positif = df_selected[df_selected['label']=='positif']\n",
    "df_negatif = df_selected[df_selected['label']=='negatif']\n",
    "df_netral = df_selected[df_selected['label']=='netral']\n",
    "\n",
    "print(f'positif {df_positif.shape} record \\n'\n",
    "      f'negatif {df_negatif.shape} record \\n'\n",
    "      f'netral {df_netral.shape} record')"
   ]
  },
  {
   "cell_type": "code",
   "execution_count": null,
   "id": "5659bb0b",
   "metadata": {},
   "outputs": [],
   "source": [
    "data = df_selected[['id', 'full_text', 'user/name', 'created_at','label']]\n",
    "data.head(5)"
   ]
  },
  {
   "cell_type": "code",
   "execution_count": null,
   "id": "ff678948",
   "metadata": {},
   "outputs": [],
   "source": [
    "data[['id', 'full_text', 'label']].head(5)"
   ]
  },
  {
   "cell_type": "code",
   "execution_count": null,
   "id": "4098638f",
   "metadata": {
    "scrolled": true
   },
   "outputs": [],
   "source": [
    "index = data.index.values\n",
    "\n",
    "for i in index:\n",
    "    increment = i+1\n",
    "    seleksi = data[data['id']==increment]\n",
    "    print(seleksi[['id','full_text']].values)\n"
   ]
  },
  {
   "cell_type": "markdown",
   "id": "336f3202",
   "metadata": {},
   "source": [
    "# C. Spliting and TF-IDF"
   ]
  },
  {
   "cell_type": "code",
   "execution_count": null,
   "id": "041ae36c",
   "metadata": {},
   "outputs": [],
   "source": [
    "# split dataset \n",
    "X_train, X_test, y_train, y_test = train_test_split(  \n",
    "                                                data['full_text'],  \n",
    "                                                data['label'],   \n",
    "                                                test_size=0.3,\n",
    "                                                random_state=5)"
   ]
  },
  {
   "cell_type": "code",
   "execution_count": null,
   "id": "7c305d8a",
   "metadata": {},
   "outputs": [],
   "source": [
    "print('y_test = ',y_test.shape)\n",
    "print('X_test = ',X_test.shape)\n",
    "\n",
    "print('y_train = ',y_train.shape)\n",
    "print('X_train = ',X_train.shape)"
   ]
  },
  {
   "cell_type": "code",
   "execution_count": null,
   "id": "869f50f0",
   "metadata": {},
   "outputs": [],
   "source": [
    "# tf-idf\n",
    "input_corrected_train = [\" \".join(x) for x in X_train]\n",
    "input_corrected_test = [\" \".join(x) for x in X_test]\n",
    "\n",
    "\n",
    "vectorizer = TfidfVectorizer()\n",
    "train_tfidf = vectorizer.fit_transform(input_corrected_train)\n",
    "test_tfidf = vectorizer.transform(input_corrected_test)\n",
    "\n",
    "# convert to dataframe\n",
    "train_tfidf = pd.DataFrame(train_tfidf.toarray(), columns=vectorizer.get_feature_names_out())\n",
    "test_tfidf = pd.DataFrame(test_tfidf.toarray(), columns=vectorizer.get_feature_names_out())\n",
    "\n",
    "# res = pd.concat([df, df1], axis=1)"
   ]
  },
  {
   "cell_type": "code",
   "execution_count": null,
   "id": "c04af912",
   "metadata": {},
   "outputs": [],
   "source": [
    "train_tfidf"
   ]
  },
  {
   "cell_type": "code",
   "execution_count": null,
   "id": "4729b30b",
   "metadata": {},
   "outputs": [],
   "source": [
    "test_tfidf"
   ]
  },
  {
   "cell_type": "markdown",
   "id": "6d723223",
   "metadata": {},
   "source": [
    "# D. SMOTE\n",
    "###  Synthetic Minority Over-sampling Technique"
   ]
  },
  {
   "cell_type": "code",
   "execution_count": null,
   "id": "335815f5",
   "metadata": {},
   "outputs": [],
   "source": [
    "# y_train before balancing\n",
    "counter = Counter(y_train)\n",
    "print(counter)"
   ]
  },
  {
   "cell_type": "code",
   "execution_count": null,
   "id": "85fbf47f",
   "metadata": {},
   "outputs": [],
   "source": [
    "# balancing training set\n",
    "oversample = SMOTE()\n",
    "x_sm, y_sm = oversample.fit_resample(train_tfidf, y_train)"
   ]
  },
  {
   "cell_type": "code",
   "execution_count": null,
   "id": "5de6fbe9",
   "metadata": {},
   "outputs": [],
   "source": [
    "# y_train after balancing\n",
    "counter = Counter(y_sm)\n",
    "print(counter)"
   ]
  },
  {
   "cell_type": "markdown",
   "id": "f6899375",
   "metadata": {},
   "source": [
    "# E. NBC"
   ]
  },
  {
   "cell_type": "code",
   "execution_count": null,
   "id": "e07651c4",
   "metadata": {},
   "outputs": [],
   "source": [
    "# model dengan SMOTE\n",
    "clfsm = MultinomialNB()\n",
    "clfsm.fit(x_sm, y_sm)\n",
    "\n",
    "# model tanpa SMOTE\n",
    "clf = MultinomialNB()\n",
    "clf.fit(train_tfidf, y_train)"
   ]
  },
  {
   "cell_type": "code",
   "execution_count": null,
   "id": "3b4fef33",
   "metadata": {},
   "outputs": [],
   "source": [
    "# prediksi tanpa SMOTE\n",
    "y_pred = clf.predict(test_tfidf)\n",
    "\n",
    "# prediksi dengan SMOTE\n",
    "y_predsm = clfsm.predict(test_tfidf)"
   ]
  },
  {
   "cell_type": "code",
   "execution_count": null,
   "id": "45d2db04",
   "metadata": {
    "scrolled": true
   },
   "outputs": [],
   "source": [
    "# prediksi tanpa smote\n",
    "print(\"hasil prediksi tanpa mengimplementasikan smote: \\n\")\n",
    "print(classification_report(y_test, y_pred))"
   ]
  },
  {
   "cell_type": "code",
   "execution_count": null,
   "id": "f3868121",
   "metadata": {
    "scrolled": false
   },
   "outputs": [],
   "source": [
    "# prediksi dengan SMOTE\n",
    "print(\"hasil prediksi dengan mengimplementasikan smote: \\n\")\n",
    "print(classification_report(y_test, y_predsm))"
   ]
  },
  {
   "cell_type": "code",
   "execution_count": null,
   "id": "e5a55f6f",
   "metadata": {},
   "outputs": [],
   "source": [
    "# df.to_excel('df_clean.xlsx', index=False)"
   ]
  },
  {
   "cell_type": "code",
   "execution_count": null,
   "id": "c1aba990",
   "metadata": {},
   "outputs": [],
   "source": []
  }
 ],
 "metadata": {
  "kernelspec": {
   "display_name": "Python 3 (ipykernel)",
   "language": "python",
   "name": "python3"
  },
  "language_info": {
   "codemirror_mode": {
    "name": "ipython",
    "version": 3
   },
   "file_extension": ".py",
   "mimetype": "text/x-python",
   "name": "python",
   "nbconvert_exporter": "python",
   "pygments_lexer": "ipython3",
   "version": "3.11.3"
  }
 },
 "nbformat": 4,
 "nbformat_minor": 5
}
